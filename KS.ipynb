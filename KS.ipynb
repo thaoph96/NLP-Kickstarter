{
  "cells": [
    {
      "cell_type": "markdown",
      "metadata": {
        "id": "Sf6SpB4fh91k"
      },
      "source": [
        "## Generate similar (Gensim)"
      ]
    },
    {
      "cell_type": "markdown",
      "source": [
        "Gensim is an open source Python library for representing documents as semantic vectors. <br>\n",
        "Gensim is desigbed to process raw and unstructure digital texts (\"plain text\") using unsupervised machine learning"
      ],
      "metadata": {
        "id": "okJ9IKpzZCe2"
      }
    },
    {
      "cell_type": "code",
      "execution_count": null,
      "metadata": {
        "id": "JCykAiomET75"
      },
      "outputs": [],
      "source": [
        "import pandas as pd\n",
        "import numpy as np\n",
        "import torch\n",
        "from sklearn.preprocessing import LabelEncoder\n",
        "from sklearn.feature_extraction.text import CountVectorizer\n",
        "from sklearn.model_selection import train_test_split\n",
        "from sklearn import  metrics\n",
        "import gensim"
      ]
    },
    {
      "cell_type": "code",
      "execution_count": null,
      "metadata": {
        "colab": {
          "base_uri": "https://localhost:8080/"
        },
        "id": "Ho1qKxLGxq0X",
        "outputId": "d76756a8-a113-4175-d982-39cb97c11cad"
      },
      "outputs": [
        {
          "name": "stdout",
          "output_type": "stream",
          "text": [
            "cpu\n"
          ]
        }
      ],
      "source": [
        "# Setup training devices\n",
        "device = torch.device(\"cuda:0\" if torch.cuda.is_available() else \"cpu\")\n",
        "print(device)"
      ]
    },
    {
      "cell_type": "code",
      "execution_count": null,
      "metadata": {
        "id": "zLWovLyQEgVU"
      },
      "outputs": [],
      "source": [
        "#from google.colab import drive\n",
        "#drive.mount('/content/gdrive')\n",
        "#file = '/content/gdrive/My Drive/Colab Notebooks/df_text_eng.csv'\n",
        "\n",
        "ks_data = pd.read_csv('df_text_eng.csv')"
      ]
    },
    {
      "cell_type": "code",
      "execution_count": null,
      "metadata": {
        "id": "oLdVaMcGYaar"
      },
      "outputs": [],
      "source": [
        "lab =  LabelEncoder() # convert fail to 0 and success to 1\n",
        "ks_data['state'] = lab.fit_transform(ks_data['state'])\n",
        "\n",
        "ks_data['blurb'] = ks_data['blurb'].values.astype('U') # ensure all blurbs are strings"
      ]
    },
    {
      "cell_type": "code",
      "execution_count": null,
      "metadata": {
        "id": "ILeIO780Y2QX"
      },
      "outputs": [],
      "source": [
        "blurb_split = ks_data.blurb.apply(gensim.utils.simple_preprocess)   #Convert a document into a list of tokens.\n",
        "bl=[0]*ks_data.shape[0]\n",
        "for i in range(0,ks_data.shape[0]):\n",
        "    temp = blurb_split[i]\n",
        "    bl[i]=''.join(str(temp))"
      ]
    },
    {
      "cell_type": "code",
      "execution_count": null,
      "metadata": {
        "id": "FVPcqQ7vYuro",
        "outputId": "858df40a-9201-4f8e-de90-cf6cb1539ad5"
      },
      "outputs": [
        {
          "name": "stdout",
          "output_type": "stream",
          "text": [
            "['microfly', 'is', 'quadcopter', 'packed', 'with', 'wifi', 'sensors', 'and', 'processors', 'for', 'ultimate', 'stability', 'and', 'fits', 'in', 'the', 'palm', 'of', 'your', 'hand']\n"
          ]
        }
      ],
      "source": [
        "print(bl[1])"
      ]
    },
    {
      "cell_type": "code",
      "execution_count": null,
      "metadata": {
        "id": "_MsQxUEnZPSY"
      },
      "outputs": [],
      "source": [
        "countVec = CountVectorizer()\n",
        "gen = countVec.fit_transform(bl) #Convert text to a matrix of token counts"
      ]
    },
    {
      "cell_type": "code",
      "execution_count": null,
      "metadata": {
        "id": "-nrq6K4YZPV7"
      },
      "outputs": [],
      "source": [
        "# split into test and train\n",
        "X_train, X_val, y_train, y_val = train_test_split(\n",
        "    gen, ks_data['state'], random_state = 42)"
      ]
    },
    {
      "cell_type": "code",
      "execution_count": null,
      "metadata": {
        "colab": {
          "base_uri": "https://localhost:8080/"
        },
        "id": "m1blMzK0ZH_B",
        "outputId": "42edd4de-b570-4b82-fbe1-8f2e11b7db71"
      },
      "outputs": [
        {
          "name": "stderr",
          "output_type": "stream",
          "text": [
            "/Users/lynnpham/opt/anaconda3/lib/python3.8/site-packages/sklearn/linear_model/_logistic.py:763: ConvergenceWarning: lbfgs failed to converge (status=1):\n",
            "STOP: TOTAL NO. of ITERATIONS REACHED LIMIT.\n",
            "\n",
            "Increase the number of iterations (max_iter) or scale the data as shown in:\n",
            "    https://scikit-learn.org/stable/modules/preprocessing.html\n",
            "Please also refer to the documentation for alternative solver options:\n",
            "    https://scikit-learn.org/stable/modules/linear_model.html#logistic-regression\n",
            "  n_iter_i = _check_optimize_result(\n"
          ]
        }
      ],
      "source": [
        "# Apply logistic regression on pre-processing data\n",
        "from sklearn.linear_model import LogisticRegression\n",
        "\n",
        "clf=LogisticRegression()\n",
        "clf.fit(X_train,y_train)\n",
        "\n",
        "pred1=clf.predict(X_val)\n",
        "pred_prob1 = clf.predict_proba(X_val)"
      ]
    },
    {
      "cell_type": "code",
      "execution_count": null,
      "metadata": {
        "colab": {
          "base_uri": "https://localhost:8080/"
        },
        "id": "mB2xy6OxZIGD",
        "outputId": "f2b868fb-ae4d-4f64-b9bc-3b63b3c33ebd"
      },
      "outputs": [
        {
          "name": "stdout",
          "output_type": "stream",
          "text": [
            "Acuracy: 0.6661, Log loss: 0.6213, AUC: 0.6662.\n"
          ]
        }
      ],
      "source": [
        "fpr, tpr, thresholds = metrics.roc_curve(y_val, pred1, pos_label=1)\n",
        "print('Acuracy: {:.4f}, Log loss: {:.4f}, AUC: {:.4f}.'\n",
        ".format(metrics.accuracy_score(pred1,y_val), metrics.log_loss(y_val, pred_prob1), metrics.auc(fpr, tpr)))"
      ]
    },
    {
      "cell_type": "code",
      "execution_count": null,
      "metadata": {
        "id": "RSLb38jqcTw9"
      },
      "outputs": [],
      "source": [
        "# Apply Naive Bayes on pre-processing data\n",
        "from sklearn.naive_bayes import BernoulliNB\n",
        "mod = BernoulliNB()\n",
        "mod.fit(X_train, y_train)\n",
        "\n",
        "pred2 = mod.predict(X_val)\n",
        "pred_prob2 = mod.predict_proba(X_val)"
      ]
    },
    {
      "cell_type": "code",
      "execution_count": null,
      "metadata": {
        "colab": {
          "base_uri": "https://localhost:8080/"
        },
        "id": "O0D0ElMgdbsP",
        "outputId": "b59bc433-6375-4e29-b8f2-e7fa56ecb506"
      },
      "outputs": [
        {
          "name": "stdout",
          "output_type": "stream",
          "text": [
            "Acuracy: 0.6720, Log loss: 0.7589, AUC: 0.6720.\n"
          ]
        }
      ],
      "source": [
        "fpr, tpr, thresholds = metrics.roc_curve(y_val, pred2, pos_label=1)\n",
        "print('Acuracy: {:.4f}, Log loss: {:.4f}, AUC: {:.4f}.'\n",
        ".format(metrics.accuracy_score(pred2,y_val), metrics.log_loss(y_val, pred_prob2),metrics.auc(fpr, tpr)))"
      ]
    },
    {
      "cell_type": "markdown",
      "metadata": {
        "id": "Qpwjphh_h8zB"
      },
      "source": [
        "## Long short-term memory (LSTM)"
      ]
    },
    {
      "cell_type": "code",
      "execution_count": null,
      "metadata": {
        "id": "WIr9GrZ7h7a0",
        "colab": {
          "base_uri": "https://localhost:8080/"
        },
        "outputId": "f986510e-a834-4bae-b167-89b2f66e755d"
      },
      "outputs": [
        {
          "output_type": "stream",
          "name": "stderr",
          "text": [
            "[nltk_data] Downloading package stopwords to /root/nltk_data...\n",
            "[nltk_data]   Unzipping corpora/stopwords.zip.\n"
          ]
        }
      ],
      "source": [
        "import numpy as np\n",
        "import pandas as pd\n",
        "\n",
        "from sklearn.preprocessing import LabelEncoder\n",
        "from sklearn.model_selection import train_test_split\n",
        "from sklearn.feature_extraction.text import CountVectorizer\n",
        "from keras.models import Sequential\n",
        "from keras.layers import Dense, Embedding, LSTM, SpatialDropout1D\n",
        "from keras.preprocessing.text import Tokenizer\n",
        "from keras.preprocessing.sequence import pad_sequences\n",
        "from tensorflow.keras.utils import to_categorical\n",
        "import torch\n",
        "import re\n",
        "import nltk\n",
        "from nltk.corpus import stopwords\n",
        "nltk.download('stopwords')\n",
        "from nltk.tokenize import word_tokenize"
      ]
    },
    {
      "cell_type": "code",
      "execution_count": null,
      "metadata": {
        "colab": {
          "base_uri": "https://localhost:8080/"
        },
        "id": "-1vUp4Emv-kK",
        "outputId": "e31a418e-80d8-40de-e3c0-3820da83ddd1"
      },
      "outputs": [
        {
          "output_type": "stream",
          "name": "stdout",
          "text": [
            "cpu\n"
          ]
        }
      ],
      "source": [
        "# Setup training devices\n",
        "device = torch.device(\"cuda:0\" if torch.cuda.is_available() else \"cpu\")\n",
        "print(device)"
      ]
    },
    {
      "cell_type": "code",
      "execution_count": null,
      "metadata": {
        "colab": {
          "base_uri": "https://localhost:8080/"
        },
        "id": "YfLntL1eh7ku",
        "outputId": "e80cb115-3f11-4a25-fb36-2340627cead5"
      },
      "outputs": [
        {
          "output_type": "stream",
          "name": "stdout",
          "text": [
            "Drive already mounted at /content/gdrive; to attempt to forcibly remount, call drive.mount(\"/content/gdrive\", force_remount=True).\n"
          ]
        }
      ],
      "source": [
        "from google.colab import drive\n",
        "drive.mount('/content/gdrive')\n",
        "file = '/content/gdrive/My Drive/Colab Notebooks/df_text_eng.csv'\n",
        "ks_data = pd.read_csv(file)"
      ]
    },
    {
      "cell_type": "code",
      "execution_count": null,
      "metadata": {
        "colab": {
          "base_uri": "https://localhost:8080/",
          "height": 53
        },
        "id": "SFUNzuwSh7n4",
        "outputId": "53fc6643-5daa-41ba-ce92-ced475721037"
      },
      "outputs": [
        {
          "output_type": "execute_result",
          "data": {
            "text/plain": [
              "Empty DataFrame\n",
              "Columns: [blurb, state]\n",
              "Index: []"
            ],
            "text/html": [
              "\n",
              "  <div id=\"df-920a7c3a-61a6-44e5-9cd6-93bddb8b2c1a\" class=\"colab-df-container\">\n",
              "    <div>\n",
              "<style scoped>\n",
              "    .dataframe tbody tr th:only-of-type {\n",
              "        vertical-align: middle;\n",
              "    }\n",
              "\n",
              "    .dataframe tbody tr th {\n",
              "        vertical-align: top;\n",
              "    }\n",
              "\n",
              "    .dataframe thead th {\n",
              "        text-align: right;\n",
              "    }\n",
              "</style>\n",
              "<table border=\"1\" class=\"dataframe\">\n",
              "  <thead>\n",
              "    <tr style=\"text-align: right;\">\n",
              "      <th></th>\n",
              "      <th>blurb</th>\n",
              "      <th>state</th>\n",
              "    </tr>\n",
              "  </thead>\n",
              "  <tbody>\n",
              "  </tbody>\n",
              "</table>\n",
              "</div>\n",
              "    <div class=\"colab-df-buttons\">\n",
              "\n",
              "  <div class=\"colab-df-container\">\n",
              "    <button class=\"colab-df-convert\" onclick=\"convertToInteractive('df-920a7c3a-61a6-44e5-9cd6-93bddb8b2c1a')\"\n",
              "            title=\"Convert this dataframe to an interactive table.\"\n",
              "            style=\"display:none;\">\n",
              "\n",
              "  <svg xmlns=\"http://www.w3.org/2000/svg\" height=\"24px\" viewBox=\"0 -960 960 960\">\n",
              "    <path d=\"M120-120v-720h720v720H120Zm60-500h600v-160H180v160Zm220 220h160v-160H400v160Zm0 220h160v-160H400v160ZM180-400h160v-160H180v160Zm440 0h160v-160H620v160ZM180-180h160v-160H180v160Zm440 0h160v-160H620v160Z\"/>\n",
              "  </svg>\n",
              "    </button>\n",
              "\n",
              "  <style>\n",
              "    .colab-df-container {\n",
              "      display:flex;\n",
              "      gap: 12px;\n",
              "    }\n",
              "\n",
              "    .colab-df-convert {\n",
              "      background-color: #E8F0FE;\n",
              "      border: none;\n",
              "      border-radius: 50%;\n",
              "      cursor: pointer;\n",
              "      display: none;\n",
              "      fill: #1967D2;\n",
              "      height: 32px;\n",
              "      padding: 0 0 0 0;\n",
              "      width: 32px;\n",
              "    }\n",
              "\n",
              "    .colab-df-convert:hover {\n",
              "      background-color: #E2EBFA;\n",
              "      box-shadow: 0px 1px 2px rgba(60, 64, 67, 0.3), 0px 1px 3px 1px rgba(60, 64, 67, 0.15);\n",
              "      fill: #174EA6;\n",
              "    }\n",
              "\n",
              "    .colab-df-buttons div {\n",
              "      margin-bottom: 4px;\n",
              "    }\n",
              "\n",
              "    [theme=dark] .colab-df-convert {\n",
              "      background-color: #3B4455;\n",
              "      fill: #D2E3FC;\n",
              "    }\n",
              "\n",
              "    [theme=dark] .colab-df-convert:hover {\n",
              "      background-color: #434B5C;\n",
              "      box-shadow: 0px 1px 3px 1px rgba(0, 0, 0, 0.15);\n",
              "      filter: drop-shadow(0px 1px 2px rgba(0, 0, 0, 0.3));\n",
              "      fill: #FFFFFF;\n",
              "    }\n",
              "  </style>\n",
              "\n",
              "    <script>\n",
              "      const buttonEl =\n",
              "        document.querySelector('#df-920a7c3a-61a6-44e5-9cd6-93bddb8b2c1a button.colab-df-convert');\n",
              "      buttonEl.style.display =\n",
              "        google.colab.kernel.accessAllowed ? 'block' : 'none';\n",
              "\n",
              "      async function convertToInteractive(key) {\n",
              "        const element = document.querySelector('#df-920a7c3a-61a6-44e5-9cd6-93bddb8b2c1a');\n",
              "        const dataTable =\n",
              "          await google.colab.kernel.invokeFunction('convertToInteractive',\n",
              "                                                    [key], {});\n",
              "        if (!dataTable) return;\n",
              "\n",
              "        const docLinkHtml = 'Like what you see? Visit the ' +\n",
              "          '<a target=\"_blank\" href=https://colab.research.google.com/notebooks/data_table.ipynb>data table notebook</a>'\n",
              "          + ' to learn more about interactive tables.';\n",
              "        element.innerHTML = '';\n",
              "        dataTable['output_type'] = 'display_data';\n",
              "        await google.colab.output.renderOutput(dataTable, element);\n",
              "        const docLink = document.createElement('div');\n",
              "        docLink.innerHTML = docLinkHtml;\n",
              "        element.appendChild(docLink);\n",
              "      }\n",
              "    </script>\n",
              "  </div>\n",
              "\n",
              "    </div>\n",
              "  </div>\n"
            ]
          },
          "metadata": {},
          "execution_count": 26
        }
      ],
      "source": [
        "ks_data = ks_data[['blurb','state']]\n",
        "ks_data['blurb'] = ks_data['blurb'].values.astype('U')  #change all blurbs to string\n",
        "\n",
        "# Clean data\n",
        "ks_data.dropna(axis=0, thresh=None, subset=None, inplace=False)\n",
        "ks_data.blurb = ks_data['blurb'].str.replace('\\W', ' ') #replace special character\n",
        "ks_data.blurb = ks_data.blurb.str.lower()"
      ]
    },
    {
      "cell_type": "code",
      "execution_count": null,
      "metadata": {
        "id": "FAu1OJmOq9XF"
      },
      "outputs": [],
      "source": [
        "# convert fail to 0 and success to 1\n",
        "lab =  LabelEncoder()\n",
        "ks_data['state'] = lab.fit_transform(ks_data['state'])"
      ]
    },
    {
      "cell_type": "code",
      "execution_count": null,
      "metadata": {
        "id": "IR-0Omlbh7qn"
      },
      "outputs": [],
      "source": [
        "tokenizer = Tokenizer(num_words=2000, split=' ')\n",
        "tokenizer.fit_on_texts(ks_data['blurb'].values)\n",
        "bl = tokenizer.texts_to_sequences(ks_data.blurb)\n",
        "bl = pad_sequences(bl)"
      ]
    },
    {
      "cell_type": "code",
      "execution_count": null,
      "metadata": {
        "id": "YoLXigoRh7tW"
      },
      "outputs": [],
      "source": [
        "lstm_mod = Sequential()\n",
        "lstm_mod.add(Embedding(2000, 150,input_length = bl.shape[1]))\n",
        "lstm_mod.add(LSTM(200, dropout=0.2, recurrent_dropout=0.2))\n",
        "lstm_mod.add(Dense(2,activation='softmax'))\n",
        "lstm_mod.compile(loss = 'binary_crossentropy', optimizer='adam',metrics = ['accuracy'])"
      ]
    },
    {
      "cell_type": "code",
      "execution_count": null,
      "metadata": {
        "colab": {
          "base_uri": "https://localhost:8080/"
        },
        "id": "Kq7Nig0Gj869",
        "outputId": "25f2666d-79cf-447a-da8a-22105521399f"
      },
      "outputs": [
        {
          "output_type": "stream",
          "name": "stdout",
          "text": [
            "Epoch 1/5\n",
            "1437/1437 [==============================] - 420s 290ms/step - loss: 0.6185 - accuracy: 0.6523 - val_loss: 0.6070 - val_accuracy: 0.6640\n",
            "Epoch 2/5\n",
            "1437/1437 [==============================] - 413s 288ms/step - loss: 0.5993 - accuracy: 0.6708 - val_loss: 0.6041 - val_accuracy: 0.6667\n",
            "Epoch 3/5\n",
            "1437/1437 [==============================] - 421s 293ms/step - loss: 0.5908 - accuracy: 0.6789 - val_loss: 0.6076 - val_accuracy: 0.6672\n",
            "Epoch 4/5\n",
            "1437/1437 [==============================] - 419s 291ms/step - loss: 0.5830 - accuracy: 0.6843 - val_loss: 0.6058 - val_accuracy: 0.6671\n",
            "Epoch 5/5\n",
            "1437/1437 [==============================] - 411s 286ms/step - loss: 0.5761 - accuracy: 0.6899 - val_loss: 0.6079 - val_accuracy: 0.6658\n"
          ]
        },
        {
          "output_type": "execute_result",
          "data": {
            "text/plain": [
              "<keras.src.callbacks.History at 0x7d5aad410100>"
            ]
          },
          "metadata": {},
          "execution_count": 24
        }
      ],
      "source": [
        "stat = pd.get_dummies(ks_data.state)\n",
        "X_train, X_val, y_train, y_val = train_test_split(bl, stat, test_size = 0.2, random_state = 42)\n",
        "lstm_mod.fit(X_train, y_train,validation_data = (X_val,y_val),epochs = 5, batch_size=120)"
      ]
    },
    {
      "cell_type": "code",
      "execution_count": null,
      "metadata": {
        "colab": {
          "base_uri": "https://localhost:8080/"
        },
        "id": "PK9ahF9Cw0yM",
        "outputId": "808109d1-8375-4dd5-cc98-1afaed15ba3a"
      },
      "outputs": [
        {
          "name": "stdout",
          "output_type": "stream",
          "text": [
            "Epoch 1/10\n",
            " 982/1437 [===================>..........] - ETA: 1:14 - loss: 0.6240 - accuracy: 0.6466"
          ]
        }
      ],
      "source": [
        "stat = pd.get_dummies(ks_data.state)\n",
        "X_train, X_val, y_train, y_val = train_test_split(bl, stat, test_size = 0.2, random_state = 42)\n",
        "lstm_mod.fit(X_train, y_train,validation_data = (X_val,y_val),epochs = 10, batch_size=120)"
      ]
    }
  ],
  "metadata": {
    "colab": {
      "provenance": []
    },
    "kernelspec": {
      "display_name": "Python 3",
      "name": "python3"
    },
    "language_info": {
      "codemirror_mode": {
        "name": "ipython",
        "version": 3
      },
      "file_extension": ".py",
      "mimetype": "text/x-python",
      "name": "python",
      "nbconvert_exporter": "python",
      "pygments_lexer": "ipython3",
      "version": "3.9.12"
    }
  },
  "nbformat": 4,
  "nbformat_minor": 0
}